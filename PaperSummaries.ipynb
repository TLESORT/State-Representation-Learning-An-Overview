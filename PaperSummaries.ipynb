{
 "cells": [
  {
   "cell_type": "markdown",
   "metadata": {},
   "source": [
    "# Relational models\n",
    "These models learn concepts as entities of the world and relational properties of theirs.\n",
    "\n",
    "Towards Deep Symbolic Reinforcement Learning, Garnelo et al. NIPS 2016.\n",
    "Handles three main components of neural-symbolic hybrid systems: 1)Conceptual abstraction. 2) Compositional structure. 3) Common sense priors, i.e., one of the first works bridging the gap among logics and neural models.\n",
    "\n",
    "Relational Networks (Santoro’17) and Visual Interaction Networks (Watters’17) are two philosophically similar models that use abstract logic to reason about the world. Relational reasoning is very closely linked to the elusive human \"common sense\", something that for a long time we thought not even other animals could do (eg \"what is the color of the object closest to the red square?\" \"How many objects have the same shape as the blue one?\"). Now this system achieves higher accuracy than humans.  [1706.01427] A simple neural network module for relational reasoning."
   ]
  },
  {
   "cell_type": "markdown",
   "metadata": {},
   "source": [
    "**************************************************\n",
    "\n",
    "# Learning State Representation for Deep Actor-Critic Control\n",
    "\n",
    "**************************************************\n",
    "\n",
    "Use of the \"predictive prior to learn a task related state representation as a pretraining for the **ML-DDPG** algorithm (Model Learning Deterministic Policy Gradient).\n",
    "\n",
    "the prior aim to predict the next state and reward. It is supervised. :\n",
    "$L_m = ||  s_{t+1} - \\hat{s_{t+1}}  ||^2_2    +  \\lambda_m ||  r_{t+1} - \\hat{r_{t+1}}  ||^2_2 $\n",
    "\n",
    "\n",
    "it allows to train RL faster afterward. ( \"“End-to-end  training of deep visuomotor policies,\" claim it is not possible?)\n"
   ]
  },
  {
   "cell_type": "markdown",
   "metadata": {},
   "source": [
    "# Slow Feature Analysis : Unsupervised Learning of Invariances (2002)"
   ]
  },
  {
   "cell_type": "code",
   "execution_count": null,
   "metadata": {
    "collapsed": true
   },
   "outputs": [],
   "source": []
  }
 ],
 "metadata": {
  "kernelspec": {
   "display_name": "Python 2",
   "language": "python",
   "name": "python2"
  },
  "language_info": {
   "codemirror_mode": {
    "name": "ipython",
    "version": 2
   },
   "file_extension": ".py",
   "mimetype": "text/x-python",
   "name": "python",
   "nbconvert_exporter": "python",
   "pygments_lexer": "ipython2",
   "version": "2.7.13"
  }
 },
 "nbformat": 4,
 "nbformat_minor": 2
}
